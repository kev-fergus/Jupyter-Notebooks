{
 "cells": [
  {
   "cell_type": "markdown",
   "id": "8e982fb7-bf3f-4bf9-943f-6b3ec39d2a1b",
   "metadata": {},
   "source": [
    "# Data Science Tools and Ecosystem"
   ]
  },
  {
   "cell_type": "markdown",
   "id": "1cfc4ea3-d11e-4d44-8b00-b0ac20877f28",
   "metadata": {},
   "source": [
    "In this notebook, Data Science Tools and Ecosystem are summarized."
   ]
  },
  {
   "cell_type": "markdown",
   "id": "e4791f2d-846c-40df-bd62-488b8c75ece9",
   "metadata": {},
   "source": [
    "Some of the popular languages that Data Scientist use are:\r\n",
    "\r\n",
    "1. Python\r\n",
    "2. R\r\n",
    "3. Julia"
   ]
  },
  {
   "cell_type": "markdown",
   "id": "71cc80ca-88ac-4208-a187-8cc79ee52ab3",
   "metadata": {},
   "source": [
    "Some of the commonly used libraries used by Data Scientists include:\r\n",
    "\r\n",
    "1. NumPy\r\n",
    "2. SciPy\r\n",
    "3. Matplotlib\r\n",
    "4. TensorFlow"
   ]
  },
  {
   "cell_type": "markdown",
   "id": "2aacad4f-8cd2-4858-8727-20ac6026851c",
   "metadata": {},
   "source": [
    "| Data Science Tools |\r\n",
    "| ------------------ |\r\n",
    "| Jupyter Notebooks\r\n",
    "| R Studio\r\n",
    "| Pandas"
   ]
  },
  {
   "cell_type": "markdown",
   "id": "a714f978-0247-460a-af40-ba74ea45c545",
   "metadata": {},
   "source": [
    "### Below are a few examples of evaluating arithmetic expressions in Python"
   ]
  },
  {
   "cell_type": "code",
   "execution_count": 12,
   "id": "0f2ea311-43de-4727-b620-a04abb3dff70",
   "metadata": {},
   "outputs": [
    {
     "data": {
      "text/plain": [
       "17"
      ]
     },
     "execution_count": 12,
     "metadata": {},
     "output_type": "execute_result"
    }
   ],
   "source": [
    "# This is a simple arithmetic expression to multiple then add integers\n",
    "(3*4)+5"
   ]
  },
  {
   "cell_type": "code",
   "execution_count": 13,
   "id": "3d0ba0c1-9193-4478-8a81-8641cac0acf1",
   "metadata": {},
   "outputs": [
    {
     "data": {
      "text/plain": [
       "3.3333333333333335"
      ]
     },
     "execution_count": 13,
     "metadata": {},
     "output_type": "execute_result"
    }
   ],
   "source": [
    "# This will convert 200 minutes to hours by dividing by 60\n",
    "200/60"
   ]
  },
  {
   "cell_type": "markdown",
   "id": "985181ec-76ab-4d1d-a296-9db105474038",
   "metadata": {},
   "source": [
    "**Objective**\r\n",
    "* List a few popular languages Data Scientists use\r\n",
    "* List a few commonly used libraries Data Scientists use\r\n",
    "* List a few Data Science tools\r\n",
    "* Learn how to create ordered and unordered tables\r\n",
    "* Learn how to create and evaluate artihmetic expressions"
   ]
  },
  {
   "cell_type": "markdown",
   "id": "090fa3ed-f45a-45a4-b98c-266d79444e19",
   "metadata": {},
   "source": [
    "## Author\n",
    "Kevin Ferguson"
   ]
  }
 ],
 "metadata": {
  "kernelspec": {
   "display_name": "Python 3 (ipykernel)",
   "language": "python",
   "name": "python3"
  },
  "language_info": {
   "codemirror_mode": {
    "name": "ipython",
    "version": 3
   },
   "file_extension": ".py",
   "mimetype": "text/x-python",
   "name": "python",
   "nbconvert_exporter": "python",
   "pygments_lexer": "ipython3",
   "version": "3.11.3"
  }
 },
 "nbformat": 4,
 "nbformat_minor": 5
}
